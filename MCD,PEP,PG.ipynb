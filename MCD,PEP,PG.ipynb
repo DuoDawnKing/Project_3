{
 "cells": [
  {
   "cell_type": "code",
   "execution_count": null,
   "id": "61053e33-4ca6-4ff6-856b-8336ca4777f2",
   "metadata": {},
   "outputs": [],
   "source": [
    "#region imports\n",
    "from AlgorithmImports import *\n",
    "from datetime import datetime\n",
    "#endregion\n",
    "class BuyAndHold(QCAlgorithm):\n",
    "    # this algorithm is designed to buy and hold one stock of a company \n",
    "\n",
    "    def Initialize(self):\n",
    "        self.SetStartDate(2015,1,1)\n",
    "        self.SetEndDate(2021,1,1)\n",
    "        # this is how much the investor wants to invest \n",
    "        self.SetCash(10000)\n",
    "        # this could be a list of all possible equities of interst \n",
    "        self.AddEquity(\"MCD\",Resolution.Daily)\n",
    "        self.AddEquity(\"PEP\",Resolution.Daily)\n",
    "        self.AddEquity(\"PG\",Resolution.Daily)\n",
    "\n",
    "\n",
    "        # the Ondata is used to set up porfolio and what will be occruing based off of it and how much to allocate the set cash\n",
    "    def OnData(self,data Slice):\n",
    "\n",
    "        if not self.Portfolio.Invested:\n",
    "            self.SetHoldings('MCD',0.74)\n",
    "            self.SetHoldings('PEP',0.23)\n",
    "            self.SetHoldings('PG',0.01)"
   ]
  },
  {
   "cell_type": "code",
   "execution_count": null,
   "id": "8f684790-ef44-4dd0-bd76-3e610b86b9ea",
   "metadata": {},
   "outputs": [],
   "source": []
  },
  {
   "cell_type": "code",
   "execution_count": null,
   "id": "325dd3ef-801f-470b-ab39-ff0370bf0c48",
   "metadata": {},
   "outputs": [],
   "source": []
  },
  {
   "cell_type": "code",
   "execution_count": null,
   "id": "7070db54-08a2-46ff-a0f7-ccdc41bf81bb",
   "metadata": {},
   "outputs": [],
   "source": []
  },
  {
   "cell_type": "code",
   "execution_count": null,
   "id": "4c7f7504-f194-44a4-87ff-66ba7bb2cd94",
   "metadata": {},
   "outputs": [],
   "source": []
  }
 ],
 "metadata": {
  "kernelspec": {
   "display_name": "Python 3 (ipykernel)",
   "language": "python",
   "name": "python3"
  },
  "language_info": {
   "codemirror_mode": {
    "name": "ipython",
    "version": 3
   },
   "file_extension": ".py",
   "mimetype": "text/x-python",
   "name": "python",
   "nbconvert_exporter": "python",
   "pygments_lexer": "ipython3",
   "version": "3.7.11"
  }
 },
 "nbformat": 4,
 "nbformat_minor": 5
}
