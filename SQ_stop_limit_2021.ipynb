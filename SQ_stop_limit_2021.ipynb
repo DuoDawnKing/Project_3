{
 "cells": [
  {
   "cell_type": "code",
   "execution_count": null,
   "id": "d6a1bae0-128d-4abd-bbfe-bdd581aa66c7",
   "metadata": {},
   "outputs": [],
   "source": [
    "# region imports\n",
    "from AlgorithmImports import *\n",
    "from datetime import datetime\n",
    "# endregion\n",
    "\n",
    "class SwimmingFluorescentYellowSeahorse(QCAlgorithm):\n",
    "\n",
    "    def Initialize(self):\n",
    "        self.SetStartDate(2021,1,1)\n",
    "        self.SetCash(100000)  # Set Strategy Cash\n",
    "        self.com = self.AddEquity(\"SQ\", Resolution.Daily)\n",
    "        \n",
    "\n",
    "    def OnData(self, data: Slice):\n",
    "        if not self.Portfolio.Invested:\n",
    "\n",
    "            close = self.Securities['SQ'].Close\n",
    "            # if the closing price drops by 5%. This is the Min to sell\n",
    "            stop_price = close * 95\n",
    "            # this sets a limit to 10%. This max to buy\n",
    "            limit_price = close * 1.10\n",
    "\n",
    "\n",
    "            self.StopLimitOrder(self.com.Symbol, 25, stop_price, limit_price)\n",
    "\n",
    "            # i didnt need the self invest because i am holding them and they have trigger points \n",
    "            # means that this code is used if you already have stocks being held and you want to trigger buys or sells if something happens "
   ]
  }
 ],
 "metadata": {
  "kernelspec": {
   "display_name": "Python 3 (ipykernel)",
   "language": "python",
   "name": "python3"
  },
  "language_info": {
   "codemirror_mode": {
    "name": "ipython",
    "version": 3
   },
   "file_extension": ".py",
   "mimetype": "text/x-python",
   "name": "python",
   "nbconvert_exporter": "python",
   "pygments_lexer": "ipython3",
   "version": "3.7.11"
  }
 },
 "nbformat": 4,
 "nbformat_minor": 5
}
