{
 "cells": [
  {
   "cell_type": "code",
   "execution_count": null,
   "id": "2242bd0b-a0e4-4182-b5b3-5b01fbc9758f",
   "metadata": {},
   "outputs": [],
   "source": [
    "# region imports\n",
    "from AlgorithmImports import *\n",
    "from datetime import datetime\n",
    "\n",
    "# endregion\n",
    "\n",
    "class TimePeriod(QCAlgorithm):\n",
    "\n",
    "    def Initialize(self):\n",
    "        self.SetStartDate(2011, 1, 1)  # Set Start Date\n",
    "        \n",
    "        self.SetCash(20000)  # Set Strategy Cash\n",
    "        \n",
    "        self.AddEquity(\"NFLX\", Resolution.Daily)\n",
    "        self.AddEquity(\"NEE\",Resolution.Daily)\n",
    "        self.AddEquity(\"PGR\",Resolution.Daily)\n",
    "        self.AddEquity(\"TMUS\",Resolution.Daily)\n",
    "        self.AddEquity(\"AMZN\",Resolution.Daily)\n",
    "        self.invest = True\n",
    "        \n",
    "\n",
    "    def OnData(self, data: Slice):\n",
    "        if not self.Portfolio.Invested and self.invest:\n",
    "            \n",
    "            self.SetHoldings('NFLX',0.74)\n",
    "            self.SetHoldings('NEE',0.23)\n",
    "            self.SetHoldings('PGR',0.01)\n",
    "            self.SetHoldings('TMUS',0.74)\n",
    "            self.SetHoldings('AMZN',0.23)\n",
    "            \n",
    "            \n",
    "            self.LimitOrder('NFLX', 10, 300)\n",
    "            self.LimitOrder('NEE', 5, 90)\n",
    "            self.LimitOrder('PGR', 7, 100)\n",
    "            self.LimitOrder('TMUS', 9, 150)\n",
    "            self.LimitOrder('AMZN', 2, 100)\n",
    "            # this sets a limit number of buying 10 shares at 300 dollars\n",
    "\n",
    "            self.LimitOrder(\"NFLX\", -10, 400)\n",
    "            self.LimitOrder('NEE', 5, 150)\n",
    "            self.LimitOrder('PGR', 7, 150)\n",
    "            self.LimitOrder('TMUS', 9, 200)\n",
    "            self.LimitOrder('AMZN', 2, 200)\n",
    "            # this sets a limit number of selling of 10 shares for minimum of 400 dollars\n",
    "\n",
    "            self.invest = False"
   ]
  }
 ],
 "metadata": {
  "kernelspec": {
   "display_name": "Python 3 (ipykernel)",
   "language": "python",
   "name": "python3"
  },
  "language_info": {
   "codemirror_mode": {
    "name": "ipython",
    "version": 3
   },
   "file_extension": ".py",
   "mimetype": "text/x-python",
   "name": "python",
   "nbconvert_exporter": "python",
   "pygments_lexer": "ipython3",
   "version": "3.7.11"
  }
 },
 "nbformat": 4,
 "nbformat_minor": 5
}
