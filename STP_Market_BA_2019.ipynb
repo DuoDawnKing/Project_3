{
 "cells": [
  {
   "cell_type": "code",
   "execution_count": null,
   "id": "54a21597-ce59-412f-96a6-7e683c14ba89",
   "metadata": {},
   "outputs": [],
   "source": [
    "# region imports\n",
    "from AlgorithmImports import *\n",
    "from datetime import datetime\n",
    "\n",
    "# endregion\n",
    "\n",
    "class TimePeriod(QCAlgorithm):\n",
    "\n",
    "    def Initialize(self):\n",
    "        self.SetStartDate(2019, 1, 1)  # Set Start Date\n",
    "        \n",
    "        self.SetCash(100000)  # Set Strategy Cash\n",
    "        \n",
    "        self.ba = self.AddEquity(\"BA\", Resolution.Daily)\n",
    "        self.invest = True\n",
    "        self.sell_ticket = None\n",
    "        \n",
    "\n",
    "    def OnData(self, data):\n",
    "        if not self.Portfolio.Invested and self.invest:\n",
    "           self.MarketOrder(self.ba.Symbol, 100)\n",
    "           self.invest = False\n",
    "\n",
    "        if self.sell_ticket == None:\n",
    "            # this shows that if Opening price of BA goes to 50% of the open price. BE AWARE IT TRIGGERS AT 50% BUT IT DOESNT MEAN IT WILL SELL AT ANY PRICE\n",
    "            self.sell_ticket = self.StopMarketOrder(self.ba.Symbol, 100, self.Securities['BA'].Open*.5)"
   ]
  }
 ],
 "metadata": {
  "kernelspec": {
   "display_name": "Python 3 (ipykernel)",
   "language": "python",
   "name": "python3"
  },
  "language_info": {
   "codemirror_mode": {
    "name": "ipython",
    "version": 3
   },
   "file_extension": ".py",
   "mimetype": "text/x-python",
   "name": "python",
   "nbconvert_exporter": "python",
   "pygments_lexer": "ipython3",
   "version": "3.7.11"
  }
 },
 "nbformat": 4,
 "nbformat_minor": 5
}
